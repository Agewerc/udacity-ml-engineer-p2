{
 "cells": [
  {
   "cell_type": "markdown",
   "metadata": {},
   "source": [
    "# Deploy and monitor a machine learning workflow for Image Classification"
   ]
  },
  {
   "cell_type": "markdown",
   "metadata": {},
   "source": [
    "## Setting up this notebook\n",
    "\n",
    "Notes about the instance size and kernel setup: this notebook has been tested on\n",
    "\n",
    "1. The `Python 3 (Data Science)` kernel\n",
    "2. The `ml.t3.medium` Sagemaker notebook instance\n",
    "\n",
    "## Data Staging\n",
    "\n",
    "We'll use a sample dataset called CIFAR to simulate the challenges Scones Unlimited are facing in Image Classification. In order to start working with CIFAR we'll need to:\n",
    "\n",
    "1. Extract the data from a hosting service\n",
    "2. Transform it into a usable shape and format\n",
    "3. Load it into a production system\n",
    "\n",
    "In other words, we're going to do some simple ETL!\n",
    "\n",
    "### 1. Extract the data from the hosting service\n",
    "\n",
    "In the cell below, define a function `extract_cifar_data` that extracts python version of the CIFAR-100 dataset. The CIFAR dataaset is open source and generously hosted by the University of Toronto at: https://www.cs.toronto.edu/~kriz/cifar-100-python.tar.gz "
   ]
  },
  {
   "cell_type": "code",
   "execution_count": 3,
   "metadata": {},
   "outputs": [],
   "source": [
    "import requests\n",
    "\n",
    "def extract_cifar_data(url, filename=\"cifar.tar.gz\"):\n",
    "    \"\"\"A function for extracting the CIFAR-100 dataset and storing it as a gzipped file\n",
    "    \n",
    "    Arguments:\n",
    "    url      -- the URL where the dataset is hosted\n",
    "    filename -- the full path where the dataset will be written\n",
    "    \n",
    "    \"\"\"\n",
    "    r = requests.get('https://www.cs.toronto.edu/~kriz/cifar-100-python.tar.gz')\n",
    "    with open(filename, \"wb\") as file_context:\n",
    "        file_context.write(r.content)\n",
    "    return print(\"Dataset has been extracted\")"
   ]
  },
  {
   "cell_type": "markdown",
   "metadata": {},
   "source": [
    "Let's test it out! Run the following cell and check whether a new file `cifar.tar.gz` is created in the file explorer."
   ]
  },
  {
   "cell_type": "code",
   "execution_count": 4,
   "metadata": {},
   "outputs": [
    {
     "name": "stdout",
     "output_type": "stream",
     "text": [
      "Dataset has been extracted\n"
     ]
    }
   ],
   "source": [
    "extract_cifar_data(\"https://www.cs.toronto.edu/~kriz/cifar-100-python.tar.gz\")     "
   ]
  },
  {
   "cell_type": "markdown",
   "metadata": {},
   "source": [
    "### 2. Transform the data into a usable shape and format\n",
    "\n",
    "Clearly, distributing the data as a gzipped archive makes sense for the hosting service! It saves on bandwidth, storage, and it's a widely-used archive format. In fact, it's so widely used that the Python community ships a utility for working with them, `tarfile`, as part of its Standard Library. Execute the following cell to decompress your extracted dataset:"
   ]
  },
  {
   "cell_type": "code",
   "execution_count": 5,
   "metadata": {},
   "outputs": [],
   "source": [
    "import tarfile\n",
    "\n",
    "with tarfile.open(\"cifar.tar.gz\", \"r:gz\") as tar:\n",
    "    tar.extractall()"
   ]
  },
  {
   "cell_type": "markdown",
   "metadata": {},
   "source": [
    "A new folder `cifar-100-python` should be created, containing `meta`, `test`, and `train` files. These files are `pickles` and the [CIFAR homepage](https://www.cs.toronto.edu/~kriz/cifar.html) provides a simple script that can be used to load them. We've adapted the script below for you to run:"
   ]
  },
  {
   "cell_type": "code",
   "execution_count": 6,
   "metadata": {},
   "outputs": [],
   "source": [
    "import pickle\n",
    "\n",
    "with open(\"./cifar-100-python/meta\", \"rb\") as f:\n",
    "    dataset_meta = pickle.load(f, encoding='bytes')\n",
    "\n",
    "with open(\"./cifar-100-python/test\", \"rb\") as f:\n",
    "    dataset_test = pickle.load(f, encoding='bytes')\n",
    "\n",
    "with open(\"./cifar-100-python/train\", \"rb\") as f:\n",
    "    dataset_train = pickle.load(f, encoding='bytes')"
   ]
  },
  {
   "cell_type": "markdown",
   "metadata": {},
   "source": [
    "As documented on the homepage, `b'data'` contains rows of 3073 unsigned integers, representing three channels (red, green, and blue) for one 32x32 pixel image per row."
   ]
  },
  {
   "cell_type": "markdown",
   "metadata": {},
   "source": [
    "For a simple gut-check, let's transform one of our images. Each 1024 items in a row is a channel (red, green, then blue). Each 32 items in the channel are a row in the 32x32 image. Using python, we can stack these channels into a 32x32x3 array, and save it as a PNG file:"
   ]
  },
  {
   "cell_type": "code",
   "execution_count": 7,
   "metadata": {},
   "outputs": [],
   "source": [
    "import numpy as np\n",
    "\n",
    "# Each 1024 in a row is a channel (red, green, then blue)\n",
    "row = dataset_train[b'data'][0]\n",
    "red, green, blue = row[0:1024], row[1024:2048], row[2048:]\n",
    "\n",
    "# Each 32 items in the channel are a row in the 32x32 image\n",
    "red = red.reshape(32,32)\n",
    "green = green.reshape(32,32)\n",
    "blue = blue.reshape(32,32)\n",
    "\n",
    "# Combine the channels into a 32x32x3 image!\n",
    "combined = np.dstack((red,green,blue))"
   ]
  },
  {
   "cell_type": "markdown",
   "metadata": {},
   "source": [
    "For a more concise version, consider the following:"
   ]
  },
  {
   "cell_type": "code",
   "execution_count": 8,
   "metadata": {},
   "outputs": [],
   "source": [
    "# All in one:\n",
    "test_image = np.dstack((\n",
    "    row[0:1024].reshape(32,32),\n",
    "    row[1024:2048].reshape(32,32),\n",
    "    row[2048:].reshape(32,32)\n",
    "))"
   ]
  },
  {
   "cell_type": "code",
   "execution_count": 9,
   "metadata": {},
   "outputs": [
    {
     "data": {
      "image/png": "[encoded data removed]",
      "text/plain": [
       "<Figure size 640x480 with 1 Axes>"
      ]
     },
     "metadata": {},
     "output_type": "display_data"
    }
   ],
   "source": [
    "import matplotlib.pyplot as plt\n",
    "plt.imshow(test_image);\n",
    "plt.show()"
   ]
  },
  {
   "cell_type": "markdown",
   "metadata": {},
   "source": [
    "Looks like a cow! Let's check the label. `dataset_meta` contains label names in order, and `dataset_train` has a list of labels for each row."
   ]
  },
  {
   "cell_type": "code",
   "execution_count": 10,
   "metadata": {},
   "outputs": [
    {
     "data": {
      "text/plain": [
       "19"
      ]
     },
     "execution_count": 10,
     "metadata": {},
     "output_type": "execute_result"
    }
   ],
   "source": [
    "dataset_train[b'fine_labels'][0]"
   ]
  },
  {
   "cell_type": "markdown",
   "metadata": {},
   "source": [
    "Our image has a label of `19`, so let's see what the 19th item is in the list of label names."
   ]
  },
  {
   "cell_type": "code",
   "execution_count": 11,
   "metadata": {},
   "outputs": [
    {
     "name": "stdout",
     "output_type": "stream",
     "text": [
      "b'cattle'\n"
     ]
    }
   ],
   "source": [
    "print(dataset_meta[b'fine_label_names'][19])"
   ]
  },
  {
   "cell_type": "markdown",
   "metadata": {},
   "source": [
    "Ok! 'cattle' sounds about right. By the way, using the previous two lines we can do:"
   ]
  },
  {
   "cell_type": "code",
   "execution_count": 12,
   "metadata": {},
   "outputs": [
    {
     "name": "stdout",
     "output_type": "stream",
     "text": [
      "b'cattle'\n"
     ]
    }
   ],
   "source": [
    "n = 0\n",
    "print(dataset_meta[b'fine_label_names'][dataset_train[b'fine_labels'][n]])"
   ]
  },
  {
   "cell_type": "markdown",
   "metadata": {},
   "source": [
    "Now we know how to check labels, is there a way that we can also check file names? `dataset_train` also contains a `b'filenames'` key. Let's see what we have here:"
   ]
  },
  {
   "cell_type": "code",
   "execution_count": 13,
   "metadata": {},
   "outputs": [
    {
     "name": "stdout",
     "output_type": "stream",
     "text": [
      "b'bos_taurus_s_000507.png'\n"
     ]
    }
   ],
   "source": [
    "print(dataset_train[b'filenames'][0])"
   ]
  },
  {
   "cell_type": "markdown",
   "metadata": {},
   "source": [
    "\"Taurus\" is the name of a subspecies of cattle, so this looks like a pretty reasonable filename. To save an image we can also do:"
   ]
  },
  {
   "cell_type": "code",
   "execution_count": 14,
   "metadata": {},
   "outputs": [],
   "source": [
    "plt.imsave(\"file.png\", test_image)"
   ]
  },
  {
   "cell_type": "markdown",
   "metadata": {},
   "source": [
    "Your new PNG file should now appear in the file explorer -- go ahead and pop it open to see!\n",
    "\n",
    "Now that you know how to reshape the images, save them as files, and capture their filenames and labels, let's just capture all the bicycles and motorcycles and save them. Scones Unlimited can use a model that tells these apart to route delivery drivers automatically.\n",
    "\n",
    "In the following cell, identify the label numbers for Bicycles and Motorcycles:"
   ]
  },
  {
   "cell_type": "code",
   "execution_count": 15,
   "metadata": {},
   "outputs": [
    {
     "name": "stdout",
     "output_type": "stream",
     "text": [
      "Bycicles Label: 8\n",
      "Motorcycles Label: 48\n"
     ]
    }
   ],
   "source": [
    "import pandas as pd\n",
    "\n",
    "labels_stringlist=[x.decode('utf-8') for x in dataset_meta[b'fine_label_names']]\n",
    "print(\"Bycicles Label:\", labels_stringlist.index(\"bicycle\"))\n",
    "print(\"Motorcycles Label:\", labels_stringlist.index(\"motorcycle\"))"
   ]
  },
  {
   "cell_type": "markdown",
   "metadata": {},
   "source": [
    "Good job! We only need objects with label 8 and 48 -- this drastically simplifies our handling of the data! Below we construct a dataframe for you, and you can safely drop the rows that don't contain observations about bicycles and motorcycles. Fill in the missing lines below to drop all other rows:"
   ]
  },
  {
   "cell_type": "code",
   "execution_count": 16,
   "metadata": {},
   "outputs": [],
   "source": [
    "df_train = pd.DataFrame({\n",
    "    \"filenames\": dataset_train[b'filenames'],\n",
    "    \"labels\": dataset_train[b'fine_labels'],\n",
    "    \"row\": range(len(dataset_train[b'filenames']))\n",
    "})"
   ]
  },
  {
   "cell_type": "code",
   "execution_count": 17,
   "metadata": {},
   "outputs": [],
   "source": [
    "#Construct the dataframe\n",
    "df_train = pd.DataFrame({\n",
    "    \"filenames\": dataset_train[b'filenames'],\n",
    "    \"labels\": dataset_train[b'fine_labels'],\n",
    "    \"row\": range(len(dataset_train[b'filenames']))\n",
    "})\n",
    "\n",
    "# Drop all rows from df_train where label is not 8 or 48\n",
    "df_train = df_train[(df_train['labels'] == 8) | (df_train['labels'] == 48)]\n",
    "\n",
    "# Decode df_train.filenames so they are regular strings\n",
    "df_train[\"filenames\"] = df_train[\"filenames\"].apply(\n",
    "    lambda x: x.decode(\"utf-8\")\n",
    ")\n",
    "\n",
    "df_test = pd.DataFrame({\n",
    "    \"filenames\": dataset_test[b'filenames'],\n",
    "    \"labels\": dataset_test[b'fine_labels'],\n",
    "    \"row\": range(len(dataset_test[b'filenames']))\n",
    "})\n",
    "\n",
    "# Drop all rows from df_test where label is not 8 or 48\n",
    "df_test = df_test[(df_test['labels'] == 8) | (df_test['labels'] == 48)]\n",
    "\n",
    "# Decode df_test.filenames so they are regular strings\n",
    "df_test[\"filenames\"] = df_test[\"filenames\"].apply(\n",
    "    lambda x: x.decode(\"utf-8\")\n",
    ")"
   ]
  },
  {
   "cell_type": "markdown",
   "metadata": {},
   "source": [
    "Now that the data is filtered for just our classes, we can save all our images."
   ]
  },
  {
   "cell_type": "code",
   "execution_count": 18,
   "metadata": {},
   "outputs": [],
   "source": [
    "!mkdir ./train\n",
    "!mkdir ./test"
   ]
  },
  {
   "cell_type": "markdown",
   "metadata": {},
   "source": [
    "In the previous sections we introduced you to several key snippets of code:\n",
    "\n",
    "1. Grabbing the image data:\n",
    "\n",
    "```python\n",
    "dataset_train[b'data'][0]\n",
    "```\n",
    "\n",
    "2. A simple idiom for stacking the image data into the right shape\n",
    "\n",
    "```python\n",
    "import numpy as np\n",
    "np.dstack((\n",
    "    row[0:1024].reshape(32,32),\n",
    "    row[1024:2048].reshape(32,32),\n",
    "    row[2048:].reshape(32,32)\n",
    "))\n",
    "```\n",
    "\n",
    "3. A simple `matplotlib` utility for saving images\n",
    "\n",
    "```python\n",
    "plt.imsave(path+row['filenames'], target)\n",
    "```\n",
    "\n",
    "Compose these together into a function that saves all the images into the `./test` and `./train` directories. Use the comments in the body of the `save_images` function below to guide your construction of the function:\n"
   ]
  },
  {
   "cell_type": "code",
   "execution_count": 19,
   "metadata": {},
   "outputs": [],
   "source": [
    "def save_images(df, dataset, n, path):\n",
    "    \n",
    "    #Grab the image data in row-major form\n",
    "    row = dataset[b'data'][n]\n",
    "    \n",
    "    # Consolidated stacking/reshaping from earlier\n",
    "    target = np.dstack((\n",
    "    row[0:1024].reshape(32,32),\n",
    "    row[1024:2048].reshape(32,32),\n",
    "    row[2048:].reshape(32,32)))\n",
    "    \n",
    "    # Save the image\n",
    "    name = path + df.loc[n,'filenames']\n",
    "    plt.imsave(name, target)\n",
    "    \n",
    "    # Return any signal data you want for debugging\n",
    "    return\n",
    "\n",
    "## save ALL images using the save_images function\n",
    "for i in df_train.row:\n",
    "    save_images(df_train, dataset_train, i, \"./train/\")    \n",
    "\n",
    "for i in df_test.row:\n",
    "    save_images(df_test, dataset_test, i, \"./test/\")        "
   ]
  },
  {
   "cell_type": "markdown",
   "metadata": {},
   "source": [
    "### 3. Load the data\n",
    "\n",
    "Now we can load the data into S3.\n",
    "\n",
    "Using the sagemaker SDK grab the current region, execution role, and bucket."
   ]
  },
  {
   "cell_type": "code",
   "execution_count": 20,
   "metadata": {},
   "outputs": [
    {
     "name": "stdout",
     "output_type": "stream",
     "text": [
      "Default Bucket: udacity-mlengineer\n",
      "AWS Region: ap-southeast-2\n",
      "RoleArn: arn:aws:iam::170018842437:role/service-role/AmazonSageMaker-ExecutionRole-20200130T084482\n"
     ]
    }
   ],
   "source": [
    "import sagemaker\n",
    "\n",
    "sess = sagemaker.Session()\n",
    "\n",
    "bucket = \"udacity-mlengineer\" #/lesson3/lesson3/project\"\n",
    "print(\"Default Bucket: {}\".format(bucket))\n",
    "\n",
    "region =  sess.boto_region_name\n",
    "print(\"AWS Region: {}\".format(region))\n",
    "\n",
    "role = sagemaker.get_execution_role()\n",
    "print(\"RoleArn: {}\".format(role))"
   ]
  },
  {
   "cell_type": "markdown",
   "metadata": {},
   "source": [
    "With this data we can easily sync your data up into S3!"
   ]
  },
  {
   "cell_type": "code",
   "execution_count": 23,
   "metadata": {},
   "outputs": [],
   "source": [
    "import os\n",
    "\n",
    "os.environ[\"DEFAULT_S3_BUCKET\"] = \"udacity-mlengineer/lesson3/lesson3/project\"\n",
    "!aws s3 sync ./train s3://${DEFAULT_S3_BUCKET}/train/\n",
    "!aws s3 sync ./test s3://${DEFAULT_S3_BUCKET}/test/"
   ]
  },
  {
   "cell_type": "markdown",
   "metadata": {},
   "source": [
    "And that's it! You can check the bucket and verify that the items were uploaded.\n",
    "\n",
    "## Model Training\n",
    "\n",
    "For Image Classification, Sagemaker [also expects metadata](https://docs.aws.amazon.com/sagemaker/latest/dg/image-classification.html) e.g. in the form of TSV files with labels and filepaths. We can generate these using our Pandas DataFrames from earlier:"
   ]
  },
  {
   "cell_type": "code",
   "execution_count": 24,
   "metadata": {},
   "outputs": [],
   "source": [
    "def to_metadata_file(df, prefix):\n",
    "    df[\"s3_path\"] = df[\"filenames\"]\n",
    "    df[\"labels\"] = df[\"labels\"].apply(lambda x: 0 if x==8 else 1)\n",
    "    return df[[\"row\", \"labels\", \"s3_path\"]].to_csv(\n",
    "        f\"{prefix}.lst\", sep=\"\\t\", index=False, header=False\n",
    "    )\n",
    "    \n",
    "to_metadata_file(df_train.copy(), \"train\")\n",
    "to_metadata_file(df_test.copy(), \"test\")"
   ]
  },
  {
   "cell_type": "markdown",
   "metadata": {},
   "source": [
    "We can also upload our manifest files:"
   ]
  },
  {
   "cell_type": "code",
   "execution_count": 25,
   "metadata": {},
   "outputs": [],
   "source": [
    "import boto3\n",
    "\n",
    "# Upload files\n",
    "boto3.Session().resource('s3').Bucket(\n",
    "    bucket).Object('train.lst').upload_file('./train.lst')\n",
    "boto3.Session().resource('s3').Bucket(\n",
    "    bucket).Object('test.lst').upload_file('./test.lst')"
   ]
  },
  {
   "cell_type": "markdown",
   "metadata": {},
   "source": [
    "Using the `bucket` and `region` info we can get the latest prebuilt container to run our training job, and define an output location on our s3 bucket for the model. Use the `image_uris` function from the SageMaker SDK to retrieve the latest `image-classification` image below:"
   ]
  },
  {
   "cell_type": "code",
   "execution_count": 26,
   "metadata": {},
   "outputs": [
    {
     "name": "stderr",
     "output_type": "stream",
     "text": [
      "Defaulting to the only supported framework/algorithm version: 1. Ignoring framework/algorithm version: latest.\n"
     ]
    }
   ],
   "source": [
    "# Use the image_uris function to retrieve the latest 'image-classification' image \n",
    "from sagemaker import image_uris\n",
    "\n",
    "algo_image = image_uris.retrieve(region=region, framework=\"image-classification\", version=\"latest\")\n",
    "s3_output_location = f\"s3://udacity-mlengineer/lesson3/lesson3/project/models/image_model\""
   ]
  },
  {
   "cell_type": "markdown",
   "metadata": {},
   "source": [
    "We're ready to create an estimator! Create an estimator `img_classifier_model` that uses one instance of `ml.g4dn.xlarge`. Ensure that y ou use the output location we defined above - we'll be referring to that later!"
   ]
  },
  {
   "cell_type": "code",
   "execution_count": 27,
   "metadata": {},
   "outputs": [],
   "source": [
    "img_classifier_model=sagemaker.estimator.Estimator(\n",
    "    image_uri=algo_image,\n",
    "    role=role,\n",
    "    instance_count=1,\n",
    "    instance_type='ml.p2.xlarge',\n",
    "    sagemaker_session=sagemaker.Session(),\n",
    ")"
   ]
  },
  {
   "cell_type": "markdown",
   "metadata": {},
   "source": [
    "We can also set a few key hyperparameters and define the inputs for our model:"
   ]
  },
  {
   "cell_type": "code",
   "execution_count": 28,
   "metadata": {},
   "outputs": [],
   "source": [
    "img_classifier_model.set_hyperparameters(\n",
    "    image_shape= \"3,32,32\",\n",
    "    num_classes = 2, \n",
    "    num_training_samples= 1000\n",
    ")"
   ]
  },
  {
   "cell_type": "markdown",
   "metadata": {},
   "source": [
    "The `image-classification` image uses four input channels with very specific input parameters. For convenience, we've provided them below:"
   ]
  },
  {
   "cell_type": "code",
   "execution_count": 29,
   "metadata": {},
   "outputs": [],
   "source": [
    "from sagemaker.debugger import Rule, rule_configs\n",
    "from sagemaker.session import TrainingInput\n",
    "model_inputs = {\n",
    "        \"train\": sagemaker.inputs.TrainingInput(\n",
    "            s3_data=f\"s3://udacity-mlengineer/lesson3/lesson3/project/train/\",\n",
    "            content_type=\"application/x-image\"\n",
    "        ),\n",
    "        \"validation\": sagemaker.inputs.TrainingInput(\n",
    "            s3_data=f\"s3://udacity-mlengineer/lesson3/lesson3/project/test/\",\n",
    "            content_type=\"application/x-image\"\n",
    "        ),\n",
    "        \"train_lst\": sagemaker.inputs.TrainingInput(\n",
    "            s3_data=f\"s3://{bucket}/train.lst\",\n",
    "            content_type=\"application/x-image\"\n",
    "        ),\n",
    "        \"validation_lst\": sagemaker.inputs.TrainingInput(\n",
    "            s3_data=f\"s3://{bucket}/test.lst\",\n",
    "            content_type=\"application/x-image\"\n",
    "        )\n",
    "}"
   ]
  },
  {
   "cell_type": "markdown",
   "metadata": {},
   "source": [
    "Great, now we can train the model using the model_inputs. In the cell below, call the `fit` method on our model,:"
   ]
  },
  {
   "cell_type": "code",
   "execution_count": 24,
   "metadata": {},
   "outputs": [
    {
     "name": "stdout",
     "output_type": "stream",
     "text": [
      "2022-08-09 10:24:41 Starting - Starting the training job...\n",
      "2022-08-09 10:25:10 Starting - Preparing the instances for trainingProfilerReport-1660040681: InProgress\n",
      ".........\n",
      "2022-08-09 10:26:39 Downloading - Downloading input data......\n",
      "2022-08-09 10:27:30 Training - Downloading the training image.........\n",
      "2022-08-09 10:29:09 Training - Training image download completed. Training in progress.\u001b[34mDocker entrypoint called with argument(s): train\u001b[0m\n",
      "\u001b[34m[08/09/2022 10:28:58 INFO 139845838481216] Reading default configuration from /opt/amazon/lib/python3.7/site-packages/image_classification/default-input.json: {'use_pretrained_model': 0, 'num_layers': 152, 'epochs': 30, 'learning_rate': 0.1, 'lr_scheduler_factor': 0.1, 'optimizer': 'sgd', 'momentum': 0, 'weight_decay': 0.0001, 'beta_1': 0.9, 'beta_2': 0.999, 'eps': 1e-08, 'gamma': 0.9, 'mini_batch_size': 32, 'image_shape': '3,224,224', 'precision_dtype': 'float32'}\u001b[0m\n",
      "\u001b[34m[08/09/2022 10:28:58 INFO 139845838481216] Merging with provided configuration from /opt/ml/input/config/hyperparameters.json: {'image_shape': '3,32,32', 'num_classes': '2', 'num_training_samples': '1000'}\u001b[0m\n",
      "\u001b[34m[08/09/2022 10:28:58 INFO 139845838481216] Final configuration: {'use_pretrained_model': 0, 'num_layers': 152, 'epochs': 30, 'learning_rate': 0.1, 'lr_scheduler_factor': 0.1, 'optimizer': 'sgd', 'momentum': 0, 'weight_decay': 0.0001, 'beta_1': 0.9, 'beta_2': 0.999, 'eps': 1e-08, 'gamma': 0.9, 'mini_batch_size': 32, 'image_shape': '3,32,32', 'precision_dtype': 'float32', 'num_classes': '2', 'num_training_samples': '1000'}\u001b[0m\n",
      "\u001b[34m[08/09/2022 10:28:58 INFO 139845838481216] Searching for .lst files in /opt/ml/input/data/train_lst.\u001b[0m\n",
      "\u001b[34m[08/09/2022 10:28:58 INFO 139845838481216] Creating record files for train.lst\u001b[0m\n",
      "\u001b[34m[08/09/2022 10:28:58 INFO 139845838481216] Done creating record files...\u001b[0m\n",
      "\u001b[34m[08/09/2022 10:28:58 INFO 139845838481216] Searching for .lst files in /opt/ml/input/data/validation_lst.\u001b[0m\n",
      "\u001b[34m[08/09/2022 10:28:58 INFO 139845838481216] Creating record files for test.lst\u001b[0m\n",
      "\u001b[34m[08/09/2022 10:28:58 INFO 139845838481216] Done creating record files...\u001b[0m\n",
      "\u001b[34m[08/09/2022 10:28:58 INFO 139845838481216] use_pretrained_model: 0\u001b[0m\n",
      "\u001b[34m[08/09/2022 10:28:58 INFO 139845838481216] multi_label: 0\u001b[0m\n",
      "\u001b[34m[08/09/2022 10:28:58 INFO 139845838481216] Performing random weight initialization\u001b[0m\n",
      "\u001b[34m[08/09/2022 10:28:58 INFO 139845838481216] ---- Parameters ----\u001b[0m\n",
      "\u001b[34m[08/09/2022 10:28:58 INFO 139845838481216] num_layers: 152\u001b[0m\n",
      "\u001b[34m[08/09/2022 10:28:58 INFO 139845838481216] data type: <class 'numpy.float32'>\u001b[0m\n",
      "\u001b[34m[08/09/2022 10:28:58 INFO 139845838481216] epochs: 30\u001b[0m\n",
      "\u001b[34m[08/09/2022 10:28:58 INFO 139845838481216] optimizer: sgd\u001b[0m\n",
      "\u001b[34m[08/09/2022 10:28:58 INFO 139845838481216] momentum: 0.9\u001b[0m\n",
      "\u001b[34m[08/09/2022 10:28:58 INFO 139845838481216] weight_decay: 0.0001\u001b[0m\n",
      "\u001b[34m[08/09/2022 10:28:58 INFO 139845838481216] learning_rate: 0.1\u001b[0m\n",
      "\u001b[34m[08/09/2022 10:28:58 INFO 139845838481216] num_training_samples: 1000\u001b[0m\n",
      "\u001b[34m[08/09/2022 10:28:58 INFO 139845838481216] mini_batch_size: 32\u001b[0m\n",
      "\u001b[34m[08/09/2022 10:28:58 INFO 139845838481216] image_shape: 3,32,32\u001b[0m\n",
      "\u001b[34m[08/09/2022 10:28:58 INFO 139845838481216] num_classes: 2\u001b[0m\n",
      "\u001b[34m[08/09/2022 10:28:58 INFO 139845838481216] augmentation_type: None\u001b[0m\n",
      "\u001b[34m[08/09/2022 10:28:58 INFO 139845838481216] kv_store: device\u001b[0m\n",
      "\u001b[34m[08/09/2022 10:28:58 INFO 139845838481216] checkpoint_frequency not set, will store the best model\u001b[0m\n",
      "\u001b[34m[08/09/2022 10:28:58 INFO 139845838481216] --------------------\u001b[0m\n",
      "\u001b[34m[08/09/2022 10:28:58 INFO 139845838481216] Setting number of threads: 3\u001b[0m\n",
      "\u001b[34m[10:29:07] /opt/brazil-pkg-cache/packages/AIAlgorithmsMXNet/AIAlgorithmsMXNet-1.4.x_ecl_Cuda_10.1.x.300.0/AL2_x86_64/generic-flavor/src/src/operator/nn/./cudnn/./cudnn_algoreg-inl.h:97: Running performance tests to find the best convolution algorithm, this can take a while... (setting env variable MXNET_CUDNN_AUTOTUNE_DEFAULT to 0 to disable)\u001b[0m\n",
      "\u001b[34m[08/09/2022 10:29:28 INFO 139845838481216] Epoch[0] Batch [20]#011Speed: 30.311 samples/sec#011accuracy=0.543155\u001b[0m\n",
      "\u001b[34m[08/09/2022 10:29:34 INFO 139845838481216] Epoch[0] Train-accuracy=0.582661\u001b[0m\n",
      "\u001b[34m[08/09/2022 10:29:34 INFO 139845838481216] Epoch[0] Time cost=26.940\u001b[0m\n",
      "\u001b[34m[08/09/2022 10:29:35 INFO 139845838481216] Epoch[0] Validation-accuracy=0.484375\u001b[0m\n",
      "\u001b[34m[08/09/2022 10:29:36 INFO 139845838481216] Storing the best model with validation accuracy: 0.484375\u001b[0m\n",
      "\u001b[34m[08/09/2022 10:29:37 INFO 139845838481216] Saved checkpoint to \"/opt/ml/model/image-classification-0001.params\"\u001b[0m\n",
      "\u001b[34m[08/09/2022 10:29:49 INFO 139845838481216] Epoch[1] Batch [20]#011Speed: 52.995 samples/sec#011accuracy=0.703869\u001b[0m\n",
      "\u001b[34m[08/09/2022 10:29:55 INFO 139845838481216] Epoch[1] Train-accuracy=0.698589\u001b[0m\n",
      "\u001b[34m[08/09/2022 10:29:55 INFO 139845838481216] Epoch[1] Time cost=17.917\u001b[0m\n",
      "\u001b[34m[08/09/2022 10:29:56 INFO 139845838481216] Epoch[1] Validation-accuracy=0.604167\u001b[0m\n",
      "\u001b[34m[08/09/2022 10:29:57 INFO 139845838481216] Storing the best model with validation accuracy: 0.604167\u001b[0m\n",
      "\u001b[34m[08/09/2022 10:29:57 INFO 139845838481216] Saved checkpoint to \"/opt/ml/model/image-classification-0002.params\"\u001b[0m\n",
      "\u001b[34m[08/09/2022 10:30:10 INFO 139845838481216] Epoch[2] Batch [20]#011Speed: 52.512 samples/sec#011accuracy=0.721726\u001b[0m\n",
      "\u001b[34m[08/09/2022 10:30:15 INFO 139845838481216] Epoch[2] Train-accuracy=0.717742\u001b[0m\n",
      "\u001b[34m[08/09/2022 10:30:15 INFO 139845838481216] Epoch[2] Time cost=18.082\u001b[0m\n",
      "\u001b[34m[08/09/2022 10:30:17 INFO 139845838481216] Epoch[2] Validation-accuracy=0.625000\u001b[0m\n",
      "\u001b[34m[08/09/2022 10:30:18 INFO 139845838481216] Storing the best model with validation accuracy: 0.625000\u001b[0m\n",
      "\u001b[34m[08/09/2022 10:30:18 INFO 139845838481216] Saved checkpoint to \"/opt/ml/model/image-classification-0003.params\"\u001b[0m\n",
      "\u001b[34m[08/09/2022 10:30:30 INFO 139845838481216] Epoch[3] Batch [20]#011Speed: 53.241 samples/sec#011accuracy=0.550595\u001b[0m\n",
      "\u001b[34m[08/09/2022 10:30:36 INFO 139845838481216] Epoch[3] Train-accuracy=0.536290\u001b[0m\n",
      "\u001b[34m[08/09/2022 10:30:36 INFO 139845838481216] Epoch[3] Time cost=17.913\u001b[0m\n",
      "\u001b[34m[08/09/2022 10:30:38 INFO 139845838481216] Epoch[3] Validation-accuracy=0.535714\u001b[0m\n",
      "\u001b[34m[08/09/2022 10:30:51 INFO 139845838481216] Epoch[4] Batch [20]#011Speed: 52.951 samples/sec#011accuracy=0.629464\u001b[0m\n",
      "\u001b[34m[08/09/2022 10:30:57 INFO 139845838481216] Epoch[4] Train-accuracy=0.642137\u001b[0m\n",
      "\u001b[34m[08/09/2022 10:30:57 INFO 139845838481216] Epoch[4] Time cost=18.609\u001b[0m\n",
      "\u001b[34m[08/09/2022 10:30:59 INFO 139845838481216] Epoch[4] Validation-accuracy=0.786458\u001b[0m\n",
      "\u001b[34m[08/09/2022 10:30:59 INFO 139845838481216] Storing the best model with validation accuracy: 0.786458\u001b[0m\n",
      "\u001b[34m[08/09/2022 10:31:00 INFO 139845838481216] Saved checkpoint to \"/opt/ml/model/image-classification-0005.params\"\u001b[0m\n",
      "\u001b[34m[08/09/2022 10:31:12 INFO 139845838481216] Epoch[5] Batch [20]#011Speed: 52.375 samples/sec#011accuracy=0.700893\u001b[0m\n",
      "\u001b[34m[08/09/2022 10:31:18 INFO 139845838481216] Epoch[5] Train-accuracy=0.709677\u001b[0m\n",
      "\u001b[34m[08/09/2022 10:31:18 INFO 139845838481216] Epoch[5] Time cost=18.127\u001b[0m\n",
      "\u001b[34m[08/09/2022 10:31:20 INFO 139845838481216] Epoch[5] Validation-accuracy=0.640625\u001b[0m\n",
      "\u001b[34m[08/09/2022 10:31:33 INFO 139845838481216] Epoch[6] Batch [20]#011Speed: 53.255 samples/sec#011accuracy=0.763393\u001b[0m\n",
      "\u001b[34m[08/09/2022 10:31:39 INFO 139845838481216] Epoch[6] Train-accuracy=0.774194\u001b[0m\n",
      "\u001b[34m[08/09/2022 10:31:39 INFO 139845838481216] Epoch[6] Time cost=17.886\u001b[0m\n",
      "\u001b[34m[08/09/2022 10:31:40 INFO 139845838481216] Epoch[6] Validation-accuracy=0.713542\u001b[0m\n",
      "\u001b[34m[08/09/2022 10:31:53 INFO 139845838481216] Epoch[7] Batch [20]#011Speed: 53.366 samples/sec#011accuracy=0.781250\u001b[0m\n",
      "\u001b[34m[08/09/2022 10:31:59 INFO 139845838481216] Epoch[7] Train-accuracy=0.776210\u001b[0m\n",
      "\u001b[34m[08/09/2022 10:31:59 INFO 139845838481216] Epoch[7] Time cost=17.903\u001b[0m\n",
      "\u001b[34m[08/09/2022 10:32:01 INFO 139845838481216] Epoch[7] Validation-accuracy=0.772321\u001b[0m\n",
      "\u001b[34m[08/09/2022 10:32:14 INFO 139845838481216] Epoch[8] Batch [20]#011Speed: 52.247 samples/sec#011accuracy=0.784226\u001b[0m\n",
      "\u001b[34m[08/09/2022 10:32:20 INFO 139845838481216] Epoch[8] Train-accuracy=0.795363\u001b[0m\n",
      "\u001b[34m[08/09/2022 10:32:20 INFO 139845838481216] Epoch[8] Time cost=18.152\u001b[0m\n",
      "\u001b[34m[08/09/2022 10:32:21 INFO 139845838481216] Epoch[8] Validation-accuracy=0.833333\u001b[0m\n",
      "\u001b[34m[08/09/2022 10:32:22 INFO 139845838481216] Storing the best model with validation accuracy: 0.833333\u001b[0m\n",
      "\u001b[34m[08/09/2022 10:32:23 INFO 139845838481216] Saved checkpoint to \"/opt/ml/model/image-classification-0009.params\"\u001b[0m\n",
      "\u001b[34m[08/09/2022 10:32:34 INFO 139845838481216] Epoch[9] Batch [20]#011Speed: 53.447 samples/sec#011accuracy=0.775298\u001b[0m\n",
      "\u001b[34m[08/09/2022 10:32:40 INFO 139845838481216] Epoch[9] Train-accuracy=0.785282\u001b[0m\n",
      "\u001b[34m[08/09/2022 10:32:40 INFO 139845838481216] Epoch[9] Time cost=17.879\u001b[0m\n",
      "\u001b[34m[08/09/2022 10:32:42 INFO 139845838481216] Epoch[9] Validation-accuracy=0.802083\u001b[0m\n",
      "\u001b[34m[08/09/2022 10:32:55 INFO 139845838481216] Epoch[10] Batch [20]#011Speed: 53.305 samples/sec#011accuracy=0.805060\u001b[0m\n",
      "\u001b[34m[08/09/2022 10:33:01 INFO 139845838481216] Epoch[10] Train-accuracy=0.805444\u001b[0m\n",
      "\u001b[34m[08/09/2022 10:33:01 INFO 139845838481216] Epoch[10] Time cost=17.863\u001b[0m\n",
      "\u001b[34m[08/09/2022 10:33:02 INFO 139845838481216] Epoch[10] Validation-accuracy=0.802083\u001b[0m\n",
      "\u001b[34m[08/09/2022 10:33:15 INFO 139845838481216] Epoch[11] Batch [20]#011Speed: 52.552 samples/sec#011accuracy=0.803571\u001b[0m\n",
      "\u001b[34m[08/09/2022 10:33:21 INFO 139845838481216] Epoch[11] Train-accuracy=0.796371\u001b[0m\n",
      "\u001b[34m[08/09/2022 10:33:21 INFO 139845838481216] Epoch[11] Time cost=18.041\u001b[0m\n",
      "\u001b[34m[08/09/2022 10:33:23 INFO 139845838481216] Epoch[11] Validation-accuracy=0.741071\u001b[0m\n",
      "\u001b[34m[08/09/2022 10:33:36 INFO 139845838481216] Epoch[12] Batch [20]#011Speed: 53.006 samples/sec#011accuracy=0.809524\u001b[0m\n",
      "\u001b[34m[08/09/2022 10:33:42 INFO 139845838481216] Epoch[12] Train-accuracy=0.806452\u001b[0m\n",
      "\u001b[34m[08/09/2022 10:33:42 INFO 139845838481216] Epoch[12] Time cost=17.963\u001b[0m\n",
      "\u001b[34m[08/09/2022 10:33:43 INFO 139845838481216] Epoch[12] Validation-accuracy=0.822917\u001b[0m\n",
      "\u001b[34m[08/09/2022 10:33:56 INFO 139845838481216] Epoch[13] Batch [20]#011Speed: 53.164 samples/sec#011accuracy=0.793155\u001b[0m\n",
      "\u001b[34m[08/09/2022 10:34:02 INFO 139845838481216] Epoch[13] Train-accuracy=0.807460\u001b[0m\n",
      "\u001b[34m[08/09/2022 10:34:02 INFO 139845838481216] Epoch[13] Time cost=18.000\u001b[0m\n",
      "\u001b[34m[08/09/2022 10:34:04 INFO 139845838481216] Epoch[13] Validation-accuracy=0.854167\u001b[0m\n",
      "\u001b[34m[08/09/2022 10:34:04 INFO 139845838481216] Storing the best model with validation accuracy: 0.854167\u001b[0m\n",
      "\u001b[34m[08/09/2022 10:34:05 INFO 139845838481216] Saved checkpoint to \"/opt/ml/model/image-classification-0014.params\"\u001b[0m\n",
      "\u001b[34m[08/09/2022 10:34:17 INFO 139845838481216] Epoch[14] Batch [20]#011Speed: 52.924 samples/sec#011accuracy=0.828869\u001b[0m\n",
      "\u001b[34m[08/09/2022 10:34:23 INFO 139845838481216] Epoch[14] Train-accuracy=0.829637\u001b[0m\n",
      "\u001b[34m[08/09/2022 10:34:23 INFO 139845838481216] Epoch[14] Time cost=18.021\u001b[0m\n",
      "\u001b[34m[08/09/2022 10:34:24 INFO 139845838481216] Epoch[14] Validation-accuracy=0.781250\u001b[0m\n",
      "\u001b[34m[08/09/2022 10:34:38 INFO 139845838481216] Epoch[15] Batch [20]#011Speed: 53.251 samples/sec#011accuracy=0.821429\u001b[0m\n",
      "\u001b[34m[08/09/2022 10:34:43 INFO 139845838481216] Epoch[15] Train-accuracy=0.816532\u001b[0m\n",
      "\u001b[34m[08/09/2022 10:34:43 INFO 139845838481216] Epoch[15] Time cost=17.938\u001b[0m\n",
      "\u001b[34m[08/09/2022 10:34:45 INFO 139845838481216] Epoch[15] Validation-accuracy=0.830357\u001b[0m\n",
      "\u001b[34m[08/09/2022 10:34:58 INFO 139845838481216] Epoch[16] Batch [20]#011Speed: 52.959 samples/sec#011accuracy=0.860119\u001b[0m\n",
      "\u001b[34m[08/09/2022 10:35:04 INFO 139845838481216] Epoch[16] Train-accuracy=0.845766\u001b[0m\n",
      "\u001b[34m[08/09/2022 10:35:04 INFO 139845838481216] Epoch[16] Time cost=18.021\u001b[0m\n",
      "\u001b[34m[08/09/2022 10:35:05 INFO 139845838481216] Epoch[16] Validation-accuracy=0.838542\u001b[0m\n",
      "\u001b[34m[08/09/2022 10:35:19 INFO 139845838481216] Epoch[17] Batch [20]#011Speed: 53.235 samples/sec#011accuracy=0.879464\u001b[0m\n",
      "\u001b[34m[08/09/2022 10:35:25 INFO 139845838481216] Epoch[17] Train-accuracy=0.871976\u001b[0m\n",
      "\u001b[34m[08/09/2022 10:35:25 INFO 139845838481216] Epoch[17] Time cost=17.911\u001b[0m\n",
      "\u001b[34m[08/09/2022 10:35:26 INFO 139845838481216] Epoch[17] Validation-accuracy=0.833333\u001b[0m\n",
      "\u001b[34m[08/09/2022 10:35:40 INFO 139845838481216] Epoch[18] Batch [20]#011Speed: 50.786 samples/sec#011accuracy=0.842262\u001b[0m\n",
      "\u001b[34m[08/09/2022 10:35:45 INFO 139845838481216] Epoch[18] Train-accuracy=0.846774\u001b[0m\n",
      "\u001b[34m[08/09/2022 10:35:45 INFO 139845838481216] Epoch[18] Time cost=18.481\u001b[0m\n",
      "\u001b[34m[08/09/2022 10:35:47 INFO 139845838481216] Epoch[18] Validation-accuracy=0.838542\u001b[0m\n",
      "\u001b[34m[08/09/2022 10:36:00 INFO 139845838481216] Epoch[19] Batch [20]#011Speed: 53.443 samples/sec#011accuracy=0.877976\u001b[0m\n",
      "\u001b[34m[08/09/2022 10:36:06 INFO 139845838481216] Epoch[19] Train-accuracy=0.872984\u001b[0m\n",
      "\u001b[34m[08/09/2022 10:36:06 INFO 139845838481216] Epoch[19] Time cost=18.044\u001b[0m\n",
      "\u001b[34m[08/09/2022 10:36:07 INFO 139845838481216] Epoch[19] Validation-accuracy=0.825893\u001b[0m\n",
      "\u001b[34m[08/09/2022 10:36:21 INFO 139845838481216] Epoch[20] Batch [20]#011Speed: 52.820 samples/sec#011accuracy=0.885417\u001b[0m\n",
      "\u001b[34m[08/09/2022 10:36:26 INFO 139845838481216] Epoch[20] Train-accuracy=0.875000\u001b[0m\n",
      "\u001b[34m[08/09/2022 10:36:26 INFO 139845838481216] Epoch[20] Time cost=18.001\u001b[0m\n",
      "\u001b[34m[08/09/2022 10:36:28 INFO 139845838481216] Epoch[20] Validation-accuracy=0.833333\u001b[0m\n",
      "\u001b[34m[08/09/2022 10:36:41 INFO 139845838481216] Epoch[21] Batch [20]#011Speed: 53.342 samples/sec#011accuracy=0.867560\u001b[0m\n",
      "\u001b[34m[08/09/2022 10:36:47 INFO 139845838481216] Epoch[21] Train-accuracy=0.864919\u001b[0m\n",
      "\u001b[34m[08/09/2022 10:36:47 INFO 139845838481216] Epoch[21] Time cost=17.882\u001b[0m\n",
      "\u001b[34m[08/09/2022 10:36:48 INFO 139845838481216] Epoch[21] Validation-accuracy=0.880208\u001b[0m\n",
      "\u001b[34m[08/09/2022 10:36:49 INFO 139845838481216] Storing the best model with validation accuracy: 0.880208\u001b[0m\n",
      "\u001b[34m[08/09/2022 10:36:49 INFO 139845838481216] Saved checkpoint to \"/opt/ml/model/image-classification-0022.params\"\u001b[0m\n",
      "\u001b[34m[08/09/2022 10:37:01 INFO 139845838481216] Epoch[22] Batch [20]#011Speed: 52.812 samples/sec#011accuracy=0.888393\u001b[0m\n",
      "\u001b[34m[08/09/2022 10:37:08 INFO 139845838481216] Epoch[22] Train-accuracy=0.885081\u001b[0m\n",
      "\u001b[34m[08/09/2022 10:37:08 INFO 139845838481216] Epoch[22] Time cost=18.171\u001b[0m\n",
      "\u001b[34m[08/09/2022 10:37:09 INFO 139845838481216] Epoch[22] Validation-accuracy=0.812500\u001b[0m\n",
      "\u001b[34m[08/09/2022 10:37:22 INFO 139845838481216] Epoch[23] Batch [20]#011Speed: 53.035 samples/sec#011accuracy=0.913690\u001b[0m\n",
      "\u001b[34m[08/09/2022 10:37:28 INFO 139845838481216] Epoch[23] Train-accuracy=0.909274\u001b[0m\n",
      "\u001b[34m[08/09/2022 10:37:28 INFO 139845838481216] Epoch[23] Time cost=17.957\u001b[0m\n",
      "\u001b[34m[08/09/2022 10:37:29 INFO 139845838481216] Epoch[23] Validation-accuracy=0.879464\u001b[0m\n",
      "\u001b[34m[08/09/2022 10:37:43 INFO 139845838481216] Epoch[24] Batch [20]#011Speed: 52.640 samples/sec#011accuracy=0.907738\u001b[0m\n",
      "\u001b[34m[08/09/2022 10:37:49 INFO 139845838481216] Epoch[24] Train-accuracy=0.910282\u001b[0m\n",
      "\u001b[34m[08/09/2022 10:37:49 INFO 139845838481216] Epoch[24] Time cost=18.096\u001b[0m\n",
      "\u001b[34m[08/09/2022 10:37:50 INFO 139845838481216] Epoch[24] Validation-accuracy=0.843750\u001b[0m\n",
      "\u001b[34m[08/09/2022 10:38:03 INFO 139845838481216] Epoch[25] Batch [20]#011Speed: 52.582 samples/sec#011accuracy=0.913690\u001b[0m\n",
      "\u001b[34m[08/09/2022 10:38:09 INFO 139845838481216] Epoch[25] Train-accuracy=0.905242\u001b[0m\n",
      "\u001b[34m[08/09/2022 10:38:09 INFO 139845838481216] Epoch[25] Time cost=18.233\u001b[0m\n",
      "\u001b[34m[08/09/2022 10:38:11 INFO 139845838481216] Epoch[25] Validation-accuracy=0.848958\u001b[0m\n",
      "\u001b[34m[08/09/2022 10:38:24 INFO 139845838481216] Epoch[26] Batch [20]#011Speed: 53.248 samples/sec#011accuracy=0.898810\u001b[0m\n",
      "\u001b[34m[08/09/2022 10:38:30 INFO 139845838481216] Epoch[26] Train-accuracy=0.897177\u001b[0m\n",
      "\u001b[34m[08/09/2022 10:38:30 INFO 139845838481216] Epoch[26] Time cost=17.938\u001b[0m\n",
      "\u001b[34m[08/09/2022 10:38:31 INFO 139845838481216] Epoch[26] Validation-accuracy=0.875000\u001b[0m\n",
      "\u001b[34m[08/09/2022 10:38:44 INFO 139845838481216] Epoch[27] Batch [20]#011Speed: 53.128 samples/sec#011accuracy=0.953869\u001b[0m\n",
      "\u001b[34m[08/09/2022 10:38:50 INFO 139845838481216] Epoch[27] Train-accuracy=0.943548\u001b[0m\n",
      "\u001b[34m[08/09/2022 10:38:50 INFO 139845838481216] Epoch[27] Time cost=17.970\u001b[0m\n",
      "\u001b[34m[08/09/2022 10:38:52 INFO 139845838481216] Epoch[27] Validation-accuracy=0.821429\u001b[0m\n",
      "\u001b[34m[08/09/2022 10:39:06 INFO 139845838481216] Epoch[28] Batch [20]#011Speed: 47.472 samples/sec#011accuracy=0.930060\u001b[0m\n",
      "\u001b[34m[08/09/2022 10:39:12 INFO 139845838481216] Epoch[28] Train-accuracy=0.926411\u001b[0m\n",
      "\u001b[34m[08/09/2022 10:39:12 INFO 139845838481216] Epoch[28] Time cost=19.361\u001b[0m\n",
      "\u001b[34m[08/09/2022 10:39:14 INFO 139845838481216] Epoch[28] Validation-accuracy=0.812500\u001b[0m\n",
      "\u001b[34m[08/09/2022 10:39:27 INFO 139845838481216] Epoch[29] Batch [20]#011Speed: 53.081 samples/sec#011accuracy=0.950893\u001b[0m\n",
      "\u001b[34m[08/09/2022 10:39:33 INFO 139845838481216] Epoch[29] Train-accuracy=0.947581\u001b[0m\n",
      "\u001b[34m[08/09/2022 10:39:33 INFO 139845838481216] Epoch[29] Time cost=17.986\u001b[0m\n",
      "\u001b[34m[08/09/2022 10:39:34 INFO 139845838481216] Epoch[29] Validation-accuracy=0.802083\u001b[0m\n",
      "\n",
      "2022-08-09 10:39:52 Uploading - Uploading generated training model\n",
      "2022-08-09 10:40:52 Completed - Training job completed\n",
      "ProfilerReport-1660040681: IssuesFound\n",
      "Training seconds: 831\n",
      "Billable seconds: 831\n"
     ]
    }
   ],
   "source": [
    "img_classifier_model.fit({\"train\": model_inputs[\"train\"], \n",
    "                          \"validation\": model_inputs[\"validation\"],\n",
    "                          \"train_lst\": model_inputs[\"train_lst\"], \n",
    "                          \"validation_lst\": model_inputs[\"validation_lst\"]})"
   ]
  },
  {
   "cell_type": "markdown",
   "metadata": {},
   "source": [
    "If all goes well, you'll end up with a model topping out above `.8` validation accuracy. With only 1000 training samples in the CIFAR dataset, that's pretty good. We could definitely pursue data augmentation & gathering more samples to help us improve further, but for now let's proceed to deploy our model.\n",
    "\n",
    "### Getting ready to deploy\n",
    "\n",
    "To begin with, let's configure Model Monitor to track our deployment. We'll define a `DataCaptureConfig` below:"
   ]
  },
  {
   "cell_type": "code",
   "execution_count": 30,
   "metadata": {},
   "outputs": [],
   "source": [
    "from sagemaker.model_monitor import DataCaptureConfig\n",
    "\n",
    "data_capture_config = DataCaptureConfig(\n",
    "    destination_s3_uri=f\"s3://udacity-mlengineer/lesson3/lesson3/project/data_capture\",\n",
    "    enable_capture = True,\n",
    "    sampling_percentage=100)"
   ]
  },
  {
   "cell_type": "markdown",
   "metadata": {},
   "source": [
    "Note the `destination_s3_uri` parameter: At the end of the project, we can explore the `data_capture` directory in S3 to find crucial data about the inputs and outputs Model Monitor has observed on our model endpoint over time.\n",
    "\n",
    "With that done, deploy your model on a single `ml.m5.xlarge` instance with the data capture config attached:"
   ]
  },
  {
   "cell_type": "markdown",
   "metadata": {},
   "source": [
    "## Load Model"
   ]
  },
  {
   "cell_type": "code",
   "execution_count": 31,
   "metadata": {},
   "outputs": [],
   "source": [
    "test_model = sagemaker.model.Model(\n",
    "    image_uri=algo_image,\n",
    "    model_data='s3://sagemaker-ap-southeast-2-170018842437/image-classification-2022-08-09-10-24-40-568/output/model.tar.gz',\n",
    "    role=role)"
   ]
  },
  {
   "cell_type": "code",
   "execution_count": 32,
   "metadata": {},
   "outputs": [
    {
     "name": "stdout",
     "output_type": "stream",
     "text": [
      "---------------!classification-endpoint-end6\n"
     ]
    }
   ],
   "source": [
    "deployment = test_model.deploy(\n",
    "\n",
    "    initial_instance_count=1,\n",
    "    data_capture_config = data_capture_config,\n",
    "    endpoint_name=\"classification-endpoint-end6\",\n",
    "    instance_type='ml.m5.xlarge')\n",
    "\n",
    "endpoint = test_model.endpoint_name\n",
    "print(test_model.endpoint_name)"
   ]
  },
  {
   "cell_type": "markdown",
   "metadata": {},
   "source": [
    "Note the endpoint name for later as well.\n",
    "\n",
    "Next, instantiate a Predictor:"
   ]
  },
  {
   "cell_type": "code",
   "execution_count": 33,
   "metadata": {},
   "outputs": [],
   "source": [
    "predictor = sagemaker.predictor.Predictor(endpoint, sagemaker_session=sagemaker.Session())"
   ]
  },
  {
   "cell_type": "markdown",
   "metadata": {},
   "source": [
    "In the code snippet below we are going to prepare one of your saved images for prediction. Use the predictor to process the `payload`."
   ]
  },
  {
   "cell_type": "code",
   "execution_count": 34,
   "metadata": {},
   "outputs": [],
   "source": [
    "from sagemaker.serializers import IdentitySerializer\n",
    "import base64\n",
    "\n",
    "predictor.serializer = IdentitySerializer(\"image/png\")\n",
    "with open(\"./test/bicycle_s_001789.png\", \"rb\") as f:\n",
    "    payload = f.read()\n",
    "\n",
    "    \n",
    "inference = predictor.predict(payload)"
   ]
  },
  {
   "cell_type": "markdown",
   "metadata": {},
   "source": [
    "Your `inference` object is an array of two values, the predicted probability value for each of your classes (bicycle and motorcycle respectively.) So, for example, a value of `b'[0.91, 0.09]'` indicates the probability of being a bike is 91% and being a motorcycle is 9%."
   ]
  },
  {
   "cell_type": "code",
   "execution_count": 35,
   "metadata": {},
   "outputs": [
    {
     "name": "stdout",
     "output_type": "stream",
     "text": [
      "b'[0.9051626920700073, 0.09483730792999268]'\n"
     ]
    }
   ],
   "source": [
    "print(inference)"
   ]
  },
  {
   "cell_type": "code",
   "execution_count": 36,
   "metadata": {},
   "outputs": [],
   "source": [
    "# test_model.delete_endpoint()"
   ]
  },
  {
   "cell_type": "markdown",
   "metadata": {},
   "source": [
    "### Draft Lambdas and Step Function Workflow\n",
    "\n",
    "Your operations team uses Step Functions to orchestrate serverless workflows. One of the nice things about Step Functions is that [workflows can call other workflows](https://docs.aws.amazon.com/step-functions/latest/dg/connect-stepfunctions.html), so the team can easily plug your workflow into the broader production architecture for Scones Unlimited.\n",
    "\n",
    "In this next stage you're going to write and deploy three Lambda functions, and then use the Step Functions visual editor to chain them together! Our functions are going to work with a simple data object:\n",
    "\n",
    "```python\n",
    "{\n",
    "    \"inferences\": [], # Output of predictor.predict\n",
    "    \"s3_key\": \"\", # Source data S3 key\n",
    "    \"s3_bucket\": \"\", # Source data S3 bucket\n",
    "    \"image_data\": \"\"  # base64 encoded string containing the image data\n",
    "}\n",
    "```\n",
    "\n",
    "A good test object that you can use for Lambda tests and Step Function executions, throughout the next section, might look like this:\n",
    "\n",
    "```python\n",
    "{\n",
    "  \"image_data\": \"\",\n",
    "  \"s3_bucket\": MY_BUCKET_NAME, # Fill in with your bucket\n",
    "  \"s3_key\": \"test/bicycle_s_000513.png\"\n",
    "}\n",
    "```\n",
    "\n",
    "Using these fields, your functions can read and write the necessary data to execute your workflow. Let's start with the first function. Your first Lambda function will copy an object from S3, base64 encode it, and then return it to the step function as `image_data` in an event.\n",
    "\n",
    "Go to the Lambda dashboard and create a new Lambda function with a descriptive name like \"serializeImageData\" and select thr 'Python 3.8' runtime. Add the same permissions as the SageMaker role you created earlier. (Reminder: you do this in the Configuration tab under \"Permissions\"). Once you're ready, use the starter code below to craft your Lambda handler:\n",
    "\n",
    "```python\n",
    "import json\n",
    "import boto3\n",
    "import base64\n",
    "\n",
    "s3 = boto3.client('s3')\n",
    "\n",
    "def lambda_handler(event, context):\n",
    "    \"\"\"A function to serialize target data from S3\"\"\"\n",
    "    \n",
    "    # Get the s3 address from the Step Function event input\n",
    "    key = ## TODO: fill in\n",
    "    bucket = ## TODO: fill in\n",
    "    \n",
    "    # Download the data from s3 to /tmp/image.png\n",
    "    ## TODO: fill in\n",
    "    \n",
    "    # We read the data from a file\n",
    "    with open(\"/tmp/image.png\", \"rb\") as f:\n",
    "        image_data = base64.b64encode(f.read())\n",
    "\n",
    "    # Pass the data back to the Step Function\n",
    "    print(\"Event:\", event.keys())\n",
    "    return {\n",
    "        'statusCode': 200,\n",
    "        'body': {\n",
    "            \"image_data\": image_data,\n",
    "            \"s3_bucket\": bucket,\n",
    "            \"s3_key\": key,\n",
    "            \"inferences\": []\n",
    "        }\n",
    "    }\n",
    "```\n",
    "\n",
    "The next function is responsible for the classification part - we're going to take the image output from the previous function, decode it, and then pass inferences back to the the Step Function.\n",
    "\n",
    "Because this Lambda will have runtime dependencies (i.e. the SageMaker SDK) you'll need to package them in your function. *Key reading:* https://docs.aws.amazon.com/lambda/latest/dg/python-package-create.html#python-package-create-with-dependency\n",
    "\n",
    "Create a new Lambda function with the same rights and a descriptive name, then fill in the starter code below for your classifier Lambda.\n",
    "\n",
    "```python\n",
    "import json\n",
    "import sagemaker\n",
    "import base64\n",
    "from sagemaker.serializers import IdentitySerializer\n",
    "\n",
    "# Fill this in with the name of your deployed model\n",
    "ENDPOINT = ## TODO: fill in\n",
    "\n",
    "def lambda_handler(event, context):\n",
    "\n",
    "    # Decode the image data\n",
    "    image = base64.b64decode(## TODO: fill in)\n",
    "\n",
    "    # Instantiate a Predictor\n",
    "    predictor = ## TODO: fill in\n",
    "\n",
    "    # For this model the IdentitySerializer needs to be \"image/png\"\n",
    "    predictor.serializer = IdentitySerializer(\"image/png\")\n",
    "    \n",
    "    # Make a prediction:\n",
    "    inferences = ## TODO: fill in\n",
    "    \n",
    "    # We return the data back to the Step Function    \n",
    "    event[\"inferences\"] = inferences.decode('utf-8')\n",
    "    return {\n",
    "        'statusCode': 200,\n",
    "        'body': json.dumps(event)\n",
    "    }\n",
    "```\n",
    "\n",
    "Finally, we need to filter low-confidence inferences. Define a threshold between 1.00 and 0.000 for your model: what is reasonble for you? If the model predicts at `.70` for it's highest confidence label, do we want to pass that inference along to downstream systems? Make one last Lambda function and tee up the same permissions:\n",
    "\n",
    "```python\n",
    "import json\n",
    "\n",
    "\n",
    "THRESHOLD = .93\n",
    "\n",
    "\n",
    "def lambda_handler(event, context):\n",
    "    \n",
    "    # Grab the inferences from the event\n",
    "    inferences = ## TODO: fill in\n",
    "    \n",
    "    # Check if any values in our inferences are above THRESHOLD\n",
    "    meets_threshold = ## TODO: fill in\n",
    "    \n",
    "    # If our threshold is met, pass our data back out of the\n",
    "    # Step Function, else, end the Step Function with an error\n",
    "    if meets_threshold:\n",
    "        pass\n",
    "    else:\n",
    "        raise(\"THRESHOLD_CONFIDENCE_NOT_MET\")\n",
    "\n",
    "    return {\n",
    "        'statusCode': 200,\n",
    "        'body': json.dumps(event)\n",
    "    }\n",
    "```\n",
    "Once you have tested the lambda functions, save the code for each lambda function in a python script called 'lambda.py'.\n",
    "\n",
    "With your lambdas in place, you can use the Step Functions visual editor to construct a workflow that chains them together. In the Step Functions console you'll have the option to author a Standard step function *Visually*.\n",
    "\n",
    "When the visual editor opens, you'll have many options to add transitions in your workflow. We're going to keep it simple and have just one: to invoke Lambda functions. Add three of them chained together. For each one, you'll be able to select the Lambda functions you just created in the proper order, filter inputs and outputs, and give them descriptive names.\n",
    "\n",
    "Make sure that you:\n",
    "\n",
    "1. Are properly filtering the inputs and outputs of your invokations (e.g. `$.body`)\n",
    "2. Take care to remove the error handling from the last function - it's supposed to \"fail loudly\" for your operations colleagues!\n",
    "\n",
    "Take a screenshot of your working step function in action and export the step function as JSON for your submission package."
   ]
  },
  {
   "cell_type": "markdown",
   "metadata": {},
   "source": [
    "\n",
    "Great! Now you can use the files in `./test` as test files for our workflow. Depending on our threshold, our workflow should reliably pass predictions about images from `./test` on to downstream systems, while erroring out for inferences below our confidence threshold!\n",
    "\n",
    "### Testing and Evaluation\n",
    "\n",
    "Do several step function invokations using data from the `./test` folder. This process should give you confidence that the workflow both *succeeds* AND *fails* as expected. In addition, SageMaker Model Monitor will generate recordings of your data and inferences which we can visualize.\n",
    "\n",
    "Here's a function that can help you generate test inputs for your invokations:"
   ]
  },
  {
   "cell_type": "code",
   "execution_count": 38,
   "metadata": {},
   "outputs": [
    {
     "data": {
      "text/plain": [
       "'{\"bucket\": \"udacity-mlengineer\", \"key\": \"lesson3/lesson3/project/test/velocipede_s_001699.png\"}'"
      ]
     },
     "execution_count": 38,
     "metadata": {},
     "output_type": "execute_result"
    }
   ],
   "source": [
    "import random\n",
    "import boto3\n",
    "import json\n",
    "\n",
    "\n",
    "def generate_test_case():\n",
    "    # Setup s3 in boto3\n",
    "    s3 = boto3.resource('s3')\n",
    "    \n",
    "    # Randomly pick from sfn or test folders in our bucket\n",
    "    objs = s3.Bucket(\"udacity-mlengineer\").objects.filter(Prefix = 'lesson3/lesson3/project/test')\n",
    "    \n",
    "    # Grab any random object key from that folder!\n",
    "    obj = random.choice([x.key for x in objs])\n",
    "    \n",
    "    return json.dumps({\n",
    "        \"bucket\": bucket,\n",
    "        \"key\": obj\n",
    "    })\n",
    "generate_test_case()"
   ]
  },
  {
   "cell_type": "markdown",
   "metadata": {},
   "source": [
    "In the Step Function dashboard for your new function, you can create new executions and copy in the generated test cases. Do several executions so that you can generate data you can evaluate and visualize.\n",
    "\n",
    "## Generate Tests Invoking Step Function"
   ]
  },
  {
   "cell_type": "code",
   "execution_count": 51,
   "metadata": {},
   "outputs": [],
   "source": [
    "sf = boto3.client('stepfunctions', region_name = region)\n",
    "arn = 'arn:aws:states:ap-southeast-2:170018842437:stateMachine:udacityLesson3MachineLearning'\n",
    "n = 20 # number of tests\n",
    "\n",
    "for i in range(n):\n",
    "    \n",
    "    input_test = generate_test_case()\n",
    "    response = sf.start_execution(\n",
    "        stateMachineArn = arn ,\n",
    "        input = input_test)"
   ]
  },
  {
   "cell_type": "markdown",
   "metadata": {},
   "source": [
    "Once you've done several executions, let's visualize the record of our inferences. Pull in the JSONLines data from your inferences like so:"
   ]
  },
  {
   "cell_type": "code",
   "execution_count": 57,
   "metadata": {},
   "outputs": [],
   "source": [
    "from sagemaker.s3 import S3Downloader\n",
    "\n",
    "# In S3 your data will be saved to a datetime-aware path\n",
    "# Find a path related to a datetime you're interested in\n",
    "data_path = f\"s3://udacity-mlengineer/lesson3/lesson3/project/data_capture/classification-endpoint-end6/AllTraffic/2022/09/03/08/\"\n",
    "\n",
    "S3Downloader.download(data_path, \"captured_data\")"
   ]
  },
  {
   "cell_type": "markdown",
   "metadata": {},
   "source": [
    "The data are in JSONLines format, where multiple valid JSON objects are stacked on top of eachother in a single `jsonl` file. We'll import an open-source library, `jsonlines` that was purpose built for parsing this format."
   ]
  },
  {
   "cell_type": "markdown",
   "metadata": {},
   "source": [
    "Now we can extract the data from each of the source files:"
   ]
  },
  {
   "cell_type": "code",
   "execution_count": 58,
   "metadata": {},
   "outputs": [
    {
     "name": "stdout",
     "output_type": "stream",
     "text": [
      "43-14-978-43821729-679c-4797-b87f-d5a88f76ebe5.jsonl\n",
      "22-50-109-faa9d5f7-83fd-4ddc-a75e-3e404e52a956.jsonl\n",
      "24-58-863-664ecda4-1d5c-407f-8390-97f6cdcfd914.jsonl\n",
      "26-12-808-5fdba274-dfbd-4403-83c9-5db580a172b7.jsonl\n"
     ]
    }
   ],
   "source": [
    "import os\n",
    "import json\n",
    "\n",
    "# List the file names we downloaded\n",
    "file_handles = os.listdir(\"./captured_data\")\n",
    "\n",
    "# Dump all the data into an array\n",
    "json_data = []\n",
    "for jsonl in file_handles:\n",
    "    print(jsonl)\n",
    "    with open(f\"./captured_data/{jsonl}\") as f:\n",
    "        for line in f:\n",
    "            json_data.append(json.loads(line))"
   ]
  },
  {
   "cell_type": "markdown",
   "metadata": {},
   "source": [
    "The data should now be a list of dictionaries, with significant nesting. We'll give you an example of some code that grabs data out of the objects and visualizes it:"
   ]
  },
  {
   "cell_type": "code",
   "execution_count": 135,
   "metadata": {},
   "outputs": [],
   "source": [
    "# !rm -rf `find -type d -name .ipynb_checkpoints`"
   ]
  },
  {
   "cell_type": "code",
   "execution_count": 61,
   "metadata": {},
   "outputs": [],
   "source": [
    "# # Define how we'll get our data\n",
    "def simple_getter(obj):\n",
    "    inferences = obj[\"captureData\"][\"endpointOutput\"][\"data\"]\n",
    "    timestamp = obj[\"eventMetadata\"][\"inferenceTime\"]\n",
    "    return json.loads(inferences), timestamp\n"
   ]
  },
  {
   "cell_type": "markdown",
   "metadata": {},
   "source": [
    "Finally, here's an example of a visualization you can build with this data. In this last part, you will take some time and build your own - the captured data has the input images, the resulting inferences, and the timestamps."
   ]
  },
  {
   "cell_type": "code",
   "execution_count": 64,
   "metadata": {},
   "outputs": [
    {
     "data": {
      "image/png": "[encoded data removed]",
      "text/plain": [
       "<Figure size 640x480 with 1 Axes>"
      ]
     },
     "metadata": {},
     "output_type": "display_data"
    }
   ],
   "source": [
    "import matplotlib.pyplot as plt\n",
    "\n",
    "# Populate the data for the x and y axis\n",
    "x = []\n",
    "y = []\n",
    "for obj in json_data:\n",
    "    inference, timestamp = simple_getter(obj)\n",
    "    \n",
    "    y.append(max(inference))\n",
    "    x.append(timestamp)\n",
    "\n",
    "# Todo: here is an visualization example, take some time to build another visual that helps monitor the result\n",
    "# Plot the data\n",
    "plt.scatter(x, y, c=['r' if k<.8 else 'b' for k in y ])\n",
    "plt.axhline(y=0.8, color='g', linestyle='--')\n",
    "plt.ylim(bottom=.50)\n",
    "\n",
    "# Add labels\n",
    "plt.ylabel(\"Confidence\")\n",
    "plt.suptitle(\"Observed Recent Inferences\", size=14)\n",
    "plt.title(\"Pictured with confidence threshold for production use\", size=10)\n",
    "\n",
    "# Give it some pizzaz!\n",
    "plt.style.use(\"Solarize_Light2\")\n",
    "plt.gcf().autofmt_xdate()\n",
    "\n",
    "plt.show()"
   ]
  },
  {
   "cell_type": "markdown",
   "metadata": {},
   "source": [
    "### Todo: build your own visualization\n"
   ]
  },
  {
   "cell_type": "code",
   "execution_count": 70,
   "metadata": {},
   "outputs": [
    {
     "data": {
      "image/png": "[encoded data removed]",
      "text/plain": [
       "<Figure size 640x480 with 1 Axes>"
      ]
     },
     "metadata": {},
     "output_type": "display_data"
    }
   ],
   "source": [
    "plt.hist(y, bins = 30)\n",
    "\n",
    "# Add labels\n",
    "plt.xlabel(\"Confidence\")\n",
    "plt.ylabel(\"Count\")\n",
    "plt.title(\"Distribution of Model Performance\", size=15)\n",
    "\n",
    "plt.show()"
   ]
  },
  {
   "cell_type": "markdown",
   "metadata": {},
   "source": [
    "### Congratulations!\n",
    "\n",
    "You've reached the end of the project. In this project you created an event-drivent ML workflow that can be incorporated into the Scones Unlimited production architecture. You used the SageMaker Estimator API to deploy your SageMaker Model and Endpoint, and you used AWS Lambda and Step Functions to orchestrate your ML workflow. Using SageMaker Model Monitor, you instrumented and observed your Endpoint, and at the end of the project you built a visualization to help stakeholders understand the performance of the Endpoint over time. If you're up for it, you can even go further with these stretch goals:\n",
    "\n",
    "* Extend your workflow to incorporate more classes: the CIFAR dataset includes other vehicles that Scones Unlimited can identify with this model.\n",
    "* Modify your event driven workflow: can you rewrite your Lambda functions so that the workflow can process multiple image inputs in parallel? Can the Step Function \"fan out\" to accomodate this new workflow?\n",
    "* Consider the test data generator we provided for you. Can we use it to create a \"dummy data\" generator, to simulate a continuous stream of input data? Or a big paralell load of data?\n",
    "* What if we want to get notified every time our step function errors out? Can we use the Step Functions visual editor in conjunction with a service like SNS to accomplish this? Try it out!\n"
   ]
  }
 ],
 "metadata": {
  "instance_type": "ml.t3.medium",
  "kernelspec": {
   "display_name": "Python 3 (Data Science)",
   "language": "python",
   "name": "python3__SAGEMAKER_INTERNAL__arn:aws:sagemaker:ap-southeast-2:452832661640:image/datascience-1.0"
  },
  "language_info": {
   "codemirror_mode": {
    "name": "ipython",
    "version": 3
   },
   "file_extension": ".py",
   "mimetype": "text/x-python",
   "name": "python",
   "nbconvert_exporter": "python",
   "pygments_lexer": "ipython3",
   "version": "3.7.10"
  }
 },
 "nbformat": 4,
 "nbformat_minor": 4
}
